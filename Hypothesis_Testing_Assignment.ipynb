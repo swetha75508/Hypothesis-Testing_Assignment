{
 "cells": [
  {
   "cell_type": "markdown",
   "id": "e036bb53-90fa-429e-8ec0-2e9c5c1879fb",
   "metadata": {},
   "source": [
    "# Hypothesis Statement\n"
   ]
  },
  {
   "cell_type": "code",
   "execution_count": 2,
   "id": "d334bef5-7541-4be0-a622-0417b0deca0d",
   "metadata": {},
   "outputs": [],
   "source": [
    "#Hypothis Testing is an assumption ie idea that is proposed for \n",
    "#sake of argument so that it can be tested to see it might be True"
   ]
  },
  {
   "cell_type": "code",
   "execution_count": 35,
   "id": "cfbd4820-aacc-415a-a5f0-df2173b7e886",
   "metadata": {},
   "outputs": [
    {
     "name": "stdout",
     "output_type": "stream",
     "text": [
      "test_statistic: -38.0\n"
     ]
    }
   ],
   "source": [
    "#T_test is performed for smaller dataset(if sample size is smaller than 30)\n",
    "import math\n",
    "import scipy.stats as stats\n",
    "import numpy as np\n",
    "\n",
    "sample_mean = 3050 \n",
    "theoritical_mean = 1000 + 5 * 600 \n",
    "standard_deviation = 5 * 25 \n",
    "sample_size = 25\n",
    "\n",
    "test_statistic = (sample_mean - theoritical_mean)/ (standard_deviation /math.sqrt( sample_size))\n",
    "\n",
    "print(f\"test_statistic:\",test_statistic)"
   ]
  },
  {
   "cell_type": "markdown",
   "id": "62e88ffd-bd12-4896-8116-a89c80020db5",
   "metadata": {},
   "source": [
    "# OR"
   ]
  },
  {
   "cell_type": "code",
   "execution_count": 37,
   "id": "35970bbf-5c61-4680-9b08-e5a478f3fbd2",
   "metadata": {},
   "outputs": [
    {
     "data": {
      "text/plain": [
       "-38.0"
      ]
     },
     "execution_count": 37,
     "metadata": {},
     "output_type": "execute_result"
    }
   ],
   "source": [
    "# Z-test is performed for larger dataset, if sample size is larger than 30\n",
    "z_score = (sample_mean - theoritical_mean)/ (standard_deviation/math.sqrt(sample_size))\n",
    "z_score"
   ]
  },
  {
   "cell_type": "code",
   "execution_count": 39,
   "id": "36cd19de-f81f-4239-84a9-6ed4628afa9c",
   "metadata": {},
   "outputs": [],
   "source": [
    "#critical z_score\n",
    "alpha = 0.05\n",
    "# ppf = percent point function(inverse value of cdf to find z_critical)\n",
    "z_critical = stats.norm.ppf(1-alpha)"
   ]
  },
  {
   "cell_type": "code",
   "execution_count": 41,
   "id": "a9d2ae6d-7e47-4282-97b8-ea8a16805938",
   "metadata": {},
   "outputs": [
    {
     "data": {
      "text/plain": [
       "1.6448536269514722"
      ]
     },
     "execution_count": 41,
     "metadata": {},
     "output_type": "execute_result"
    }
   ],
   "source": [
    "z_critical"
   ]
  },
  {
   "cell_type": "code",
   "execution_count": 43,
   "id": "f80edb81-fdcc-47f6-8a1c-1ad6ddb093c9",
   "metadata": {},
   "outputs": [
    {
     "name": "stdout",
     "output_type": "stream",
     "text": [
      "Reject Null Hypothesis, there is a significance difference between sample mean and hypothesized population parameter\n"
     ]
    }
   ],
   "source": [
    "if test_statistic < z_critical:\n",
    "    print(\"Reject Null Hypothesis, there is a significance difference between sample mean and hypothesized population parameter\")\n",
    "if test_statistic > z_critical:\n",
    "    print(\"Accept Null Hypothesis, there is no significance difference between sample mean and hypothesized population parameter\")\n",
    "\n",
    "# END OF HYPOTHESIS TESTING"
   ]
  },
  {
   "cell_type": "markdown",
   "id": "79808d1e-daae-453d-a923-a2c411c4536f",
   "metadata": {},
   "source": [
    "# Conclusion"
   ]
  },
  {
   "cell_type": "code",
   "execution_count": null,
   "id": "7017e054-8183-4d47-a7a6-a11258200dde",
   "metadata": {},
   "outputs": [],
   "source": [
    "# We reject the null hypothesis when the data provide strong enough evidence to conclude that it is likely incorrect.\n",
    "# This often occurs when the p-value (probability of observing the data given the null hypothesis is true) \n",
    "# is below a predetermined significance level."
   ]
  },
  {
   "cell_type": "code",
   "execution_count": 50,
   "id": "ee8f429e-7140-4738-a18e-1a87160b6c88",
   "metadata": {},
   "outputs": [],
   "source": [
    "# p_value is calculated using cdf(cumulative distribution function)\n",
    "p_value = 1-stats.norm.cdf(test_statistic)"
   ]
  },
  {
   "cell_type": "code",
   "execution_count": 52,
   "id": "c34c8884-e882-4de5-8fed-a9285977ffb3",
   "metadata": {},
   "outputs": [
    {
     "data": {
      "text/plain": [
       "1.0"
      ]
     },
     "execution_count": 52,
     "metadata": {},
     "output_type": "execute_result"
    }
   ],
   "source": [
    "p_value"
   ]
  },
  {
   "cell_type": "code",
   "execution_count": 54,
   "id": "2a9bbf03-9e24-4ad6-8014-b36f2bda3f78",
   "metadata": {},
   "outputs": [
    {
     "name": "stdout",
     "output_type": "stream",
     "text": [
      "Accept Null Hypothesis\n"
     ]
    }
   ],
   "source": [
    "\n",
    "if p_value < alpha:\n",
    "    print(\"Reject Null Hypothesis\")\n",
    "if p_value > alpha:\n",
    "     print(\"Accept Null Hypothesis\")"
   ]
  }
 ],
 "metadata": {
  "kernelspec": {
   "display_name": "Python 3 (ipykernel)",
   "language": "python",
   "name": "python3"
  },
  "language_info": {
   "codemirror_mode": {
    "name": "ipython",
    "version": 3
   },
   "file_extension": ".py",
   "mimetype": "text/x-python",
   "name": "python",
   "nbconvert_exporter": "python",
   "pygments_lexer": "ipython3",
   "version": "3.12.4"
  }
 },
 "nbformat": 4,
 "nbformat_minor": 5
}

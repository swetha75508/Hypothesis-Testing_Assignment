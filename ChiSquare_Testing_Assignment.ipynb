{
 "cells": [
  {
   "cell_type": "markdown",
   "id": "61e83862-8ab8-431a-bedb-6aa2f98177a6",
   "metadata": {},
   "source": [
    "# Chi Square Test\n"
   ]
  },
  {
   "cell_type": "code",
   "execution_count": 2,
   "id": "aed8d45b-884c-41fb-98fd-017b0104a196",
   "metadata": {},
   "outputs": [],
   "source": [
    "# HYPOTHESIS STATEMENT  :\n",
    "#Hypothis Testing is an assumption ie idea that is proposed for \n",
    "#sake of argument so that it can be tested to see it might be True"
   ]
  },
  {
   "cell_type": "code",
   "execution_count": 3,
   "id": "900dd0a7-375c-45af-80d4-952986c18fc7",
   "metadata": {},
   "outputs": [],
   "source": [
    "# 1st import pandas to convert into dataframe\n",
    "import pandas as pd"
   ]
  },
  {
   "cell_type": "code",
   "execution_count": 4,
   "id": "03680c4f-36e3-473d-bed1-0e23d0d5e992",
   "metadata": {},
   "outputs": [],
   "source": [
    "data = [\n",
    "    ['Very Satisfied', 50, 70, 120],\n",
    "    ['Satisfied', 80, 100, 180],\n",
    "    ['Neutral', 60, 90, 150],\n",
    "    ['Unsatisfied', 30, 50, 80],\n",
    "    ['Very Unsatisfied', 20, 50, 70]\n",
    "] "
   ]
  },
  {
   "cell_type": "code",
   "execution_count": 5,
   "id": "fceca3e5-a987-4856-a652-aabc022b30b8",
   "metadata": {},
   "outputs": [
    {
     "data": {
      "text/html": [
       "<div>\n",
       "<style scoped>\n",
       "    .dataframe tbody tr th:only-of-type {\n",
       "        vertical-align: middle;\n",
       "    }\n",
       "\n",
       "    .dataframe tbody tr th {\n",
       "        vertical-align: top;\n",
       "    }\n",
       "\n",
       "    .dataframe thead th {\n",
       "        text-align: right;\n",
       "    }\n",
       "</style>\n",
       "<table border=\"1\" class=\"dataframe\">\n",
       "  <thead>\n",
       "    <tr style=\"text-align: right;\">\n",
       "      <th></th>\n",
       "      <th>0</th>\n",
       "      <th>1</th>\n",
       "      <th>2</th>\n",
       "      <th>3</th>\n",
       "    </tr>\n",
       "  </thead>\n",
       "  <tbody>\n",
       "    <tr>\n",
       "      <th>0</th>\n",
       "      <td>Very Satisfied</td>\n",
       "      <td>50</td>\n",
       "      <td>70</td>\n",
       "      <td>120</td>\n",
       "    </tr>\n",
       "    <tr>\n",
       "      <th>1</th>\n",
       "      <td>Satisfied</td>\n",
       "      <td>80</td>\n",
       "      <td>100</td>\n",
       "      <td>180</td>\n",
       "    </tr>\n",
       "    <tr>\n",
       "      <th>2</th>\n",
       "      <td>Neutral</td>\n",
       "      <td>60</td>\n",
       "      <td>90</td>\n",
       "      <td>150</td>\n",
       "    </tr>\n",
       "    <tr>\n",
       "      <th>3</th>\n",
       "      <td>Unsatisfied</td>\n",
       "      <td>30</td>\n",
       "      <td>50</td>\n",
       "      <td>80</td>\n",
       "    </tr>\n",
       "    <tr>\n",
       "      <th>4</th>\n",
       "      <td>Very Unsatisfied</td>\n",
       "      <td>20</td>\n",
       "      <td>50</td>\n",
       "      <td>70</td>\n",
       "    </tr>\n",
       "  </tbody>\n",
       "</table>\n",
       "</div>"
      ],
      "text/plain": [
       "                  0   1    2    3\n",
       "0    Very Satisfied  50   70  120\n",
       "1         Satisfied  80  100  180\n",
       "2           Neutral  60   90  150\n",
       "3       Unsatisfied  30   50   80\n",
       "4  Very Unsatisfied  20   50   70"
      ]
     },
     "execution_count": 5,
     "metadata": {},
     "output_type": "execute_result"
    }
   ],
   "source": [
    "# CREATE DATA FRAME\n",
    "df1 = pd.DataFrame(data)\n",
    "df1"
   ]
  },
  {
   "cell_type": "code",
   "execution_count": 6,
   "id": "00ce3455-e9d7-464b-b70d-b3a0a790dec5",
   "metadata": {},
   "outputs": [
    {
     "data": {
      "text/html": [
       "<div>\n",
       "<style scoped>\n",
       "    .dataframe tbody tr th:only-of-type {\n",
       "        vertical-align: middle;\n",
       "    }\n",
       "\n",
       "    .dataframe tbody tr th {\n",
       "        vertical-align: top;\n",
       "    }\n",
       "\n",
       "    .dataframe thead th {\n",
       "        text-align: right;\n",
       "    }\n",
       "</style>\n",
       "<table border=\"1\" class=\"dataframe\">\n",
       "  <thead>\n",
       "    <tr style=\"text-align: right;\">\n",
       "      <th></th>\n",
       "      <th>Satisfaction</th>\n",
       "      <th>Smart Thermostat</th>\n",
       "      <th>Smart Light</th>\n",
       "      <th>Total</th>\n",
       "    </tr>\n",
       "  </thead>\n",
       "  <tbody>\n",
       "    <tr>\n",
       "      <th>0</th>\n",
       "      <td>Very Satisfied</td>\n",
       "      <td>50</td>\n",
       "      <td>70</td>\n",
       "      <td>120</td>\n",
       "    </tr>\n",
       "    <tr>\n",
       "      <th>1</th>\n",
       "      <td>Satisfied</td>\n",
       "      <td>80</td>\n",
       "      <td>100</td>\n",
       "      <td>180</td>\n",
       "    </tr>\n",
       "    <tr>\n",
       "      <th>2</th>\n",
       "      <td>Neutral</td>\n",
       "      <td>60</td>\n",
       "      <td>90</td>\n",
       "      <td>150</td>\n",
       "    </tr>\n",
       "    <tr>\n",
       "      <th>3</th>\n",
       "      <td>Unsatisfied</td>\n",
       "      <td>30</td>\n",
       "      <td>50</td>\n",
       "      <td>80</td>\n",
       "    </tr>\n",
       "    <tr>\n",
       "      <th>4</th>\n",
       "      <td>Very Unsatisfied</td>\n",
       "      <td>20</td>\n",
       "      <td>50</td>\n",
       "      <td>70</td>\n",
       "    </tr>\n",
       "  </tbody>\n",
       "</table>\n",
       "</div>"
      ],
      "text/plain": [
       "       Satisfaction  Smart Thermostat  Smart Light  Total\n",
       "0    Very Satisfied                50           70    120\n",
       "1         Satisfied                80          100    180\n",
       "2           Neutral                60           90    150\n",
       "3       Unsatisfied                30           50     80\n",
       "4  Very Unsatisfied                20           50     70"
      ]
     },
     "execution_count": 6,
     "metadata": {},
     "output_type": "execute_result"
    }
   ],
   "source": [
    "# Add columns Names\n",
    "df1 = pd.DataFrame(data,columns=('Satisfaction', 'Smart Thermostat', 'Smart Light', 'Total'))\n",
    "df1"
   ]
  },
  {
   "cell_type": "code",
   "execution_count": 7,
   "id": "77c5c261-321a-49e6-9776-7b16fad857aa",
   "metadata": {},
   "outputs": [
    {
     "data": {
      "text/html": [
       "<div>\n",
       "<style scoped>\n",
       "    .dataframe tbody tr th:only-of-type {\n",
       "        vertical-align: middle;\n",
       "    }\n",
       "\n",
       "    .dataframe tbody tr th {\n",
       "        vertical-align: top;\n",
       "    }\n",
       "\n",
       "    .dataframe thead th {\n",
       "        text-align: right;\n",
       "    }\n",
       "</style>\n",
       "<table border=\"1\" class=\"dataframe\">\n",
       "  <thead>\n",
       "    <tr style=\"text-align: right;\">\n",
       "      <th></th>\n",
       "      <th>Satisfaction</th>\n",
       "      <th>Smart Thermostat</th>\n",
       "      <th>Smart Light</th>\n",
       "      <th>Total</th>\n",
       "    </tr>\n",
       "  </thead>\n",
       "  <tbody>\n",
       "    <tr>\n",
       "      <th>0</th>\n",
       "      <td>Very Satisfied</td>\n",
       "      <td>50</td>\n",
       "      <td>70</td>\n",
       "      <td>120</td>\n",
       "    </tr>\n",
       "    <tr>\n",
       "      <th>1</th>\n",
       "      <td>Satisfied</td>\n",
       "      <td>80</td>\n",
       "      <td>100</td>\n",
       "      <td>180</td>\n",
       "    </tr>\n",
       "    <tr>\n",
       "      <th>2</th>\n",
       "      <td>Neutral</td>\n",
       "      <td>60</td>\n",
       "      <td>90</td>\n",
       "      <td>150</td>\n",
       "    </tr>\n",
       "    <tr>\n",
       "      <th>3</th>\n",
       "      <td>Unsatisfied</td>\n",
       "      <td>30</td>\n",
       "      <td>50</td>\n",
       "      <td>80</td>\n",
       "    </tr>\n",
       "    <tr>\n",
       "      <th>4</th>\n",
       "      <td>Very Unsatisfied</td>\n",
       "      <td>20</td>\n",
       "      <td>50</td>\n",
       "      <td>70</td>\n",
       "    </tr>\n",
       "  </tbody>\n",
       "</table>\n",
       "</div>"
      ],
      "text/plain": [
       "       Satisfaction  Smart Thermostat  Smart Light  Total\n",
       "0    Very Satisfied                50           70    120\n",
       "1         Satisfied                80          100    180\n",
       "2           Neutral                60           90    150\n",
       "3       Unsatisfied                30           50     80\n",
       "4  Very Unsatisfied                20           50     70"
      ]
     },
     "execution_count": 7,
     "metadata": {},
     "output_type": "execute_result"
    }
   ],
   "source": [
    "df1.head()"
   ]
  },
  {
   "cell_type": "code",
   "execution_count": 8,
   "id": "bbaeb8c0-16c9-41fe-af07-87ed08954db4",
   "metadata": {},
   "outputs": [
    {
     "data": {
      "text/plain": [
       "(5, 4)"
      ]
     },
     "execution_count": 8,
     "metadata": {},
     "output_type": "execute_result"
    }
   ],
   "source": [
    "df1.shape"
   ]
  },
  {
   "cell_type": "code",
   "execution_count": 9,
   "id": "a59ec5e5-c74d-4f19-a006-9a2c71c0070d",
   "metadata": {},
   "outputs": [
    {
     "data": {
      "text/plain": [
       "Index(['Satisfaction', 'Smart Thermostat', 'Smart Light', 'Total'], dtype='object')"
      ]
     },
     "execution_count": 9,
     "metadata": {},
     "output_type": "execute_result"
    }
   ],
   "source": [
    "df1.columns"
   ]
  },
  {
   "cell_type": "code",
   "execution_count": 10,
   "id": "dc9ca0b9-7731-449d-8f52-03397d5bfcb2",
   "metadata": {},
   "outputs": [
    {
     "data": {
      "text/plain": [
       "Smart Thermostat\n",
       "50    1\n",
       "80    1\n",
       "60    1\n",
       "30    1\n",
       "20    1\n",
       "Name: count, dtype: int64"
      ]
     },
     "execution_count": 10,
     "metadata": {},
     "output_type": "execute_result"
    }
   ],
   "source": [
    "df1['Smart Thermostat'].value_counts()"
   ]
  },
  {
   "cell_type": "code",
   "execution_count": 11,
   "id": "c49aa3ca-66b5-46c7-8ab9-feb14fcf3183",
   "metadata": {},
   "outputs": [
    {
     "data": {
      "text/plain": [
       "Smart Light\n",
       "50     2\n",
       "70     1\n",
       "100    1\n",
       "90     1\n",
       "Name: count, dtype: int64"
      ]
     },
     "execution_count": 11,
     "metadata": {},
     "output_type": "execute_result"
    }
   ],
   "source": [
    "df1['Smart Light'].value_counts()"
   ]
  },
  {
   "cell_type": "code",
   "execution_count": 12,
   "id": "dcb705ab-e0ae-4c1b-9717-cdfbd1c7125a",
   "metadata": {},
   "outputs": [],
   "source": [
    "# create contigency table --> is a great way to summarize the relationship\n",
    "# between catagorical two variable based on dataframe \n",
    "# there is no such catagorical data in this dataframe, if present then convert into numerical data to create contigency table.\n",
    "\n",
    "contigency_table = df1[['Smart Thermostat','Smart Light']]"
   ]
  },
  {
   "cell_type": "code",
   "execution_count": 13,
   "id": "6bbc08b4-9677-4cca-b0cf-e8e094189718",
   "metadata": {},
   "outputs": [],
   "source": [
    "num_rows, num_cols = contigency_table.shape"
   ]
  },
  {
   "cell_type": "code",
   "execution_count": 14,
   "id": "6663ba3d-427a-400b-81db-7bc1f4243181",
   "metadata": {},
   "outputs": [
    {
     "data": {
      "text/plain": [
       "4"
      ]
     },
     "execution_count": 14,
     "metadata": {},
     "output_type": "execute_result"
    }
   ],
   "source": [
    "# Degree of freedom\n",
    "dof_manual = (num_rows-1) * (num_cols-1)\n",
    "dof_manual"
   ]
  },
  {
   "cell_type": "code",
   "execution_count": 15,
   "id": "2b885c0c-28f6-49de-ba64-4ac78926b767",
   "metadata": {},
   "outputs": [
    {
     "data": {
      "text/plain": [
       "array([[ 2.56662608,  6.50798437,  3.46556394,  3.16377087],\n",
       "       [ 4.05230908,  1.50585335,  0.8365694 ,  2.19919679],\n",
       "       [ 3.57317341,  0.74898492, 11.59182544,  1.46052521],\n",
       "       [ 1.75293173,  1.68979531,  7.18622836,  3.45700463],\n",
       "       [ 6.07192984,  5.99052443,  2.38279244,  3.09685182]])"
      ]
     },
     "execution_count": 15,
     "metadata": {},
     "output_type": "execute_result"
    }
   ],
   "source": [
    "# Chisquare Test\n",
    "# Visualization of a chisquare test\n",
    "# df = degree of freedom\n",
    "from numpy import random\n",
    "x=random.chisquare(df = 4 , size=(5,4))\n",
    "x"
   ]
  },
  {
   "cell_type": "code",
   "execution_count": 16,
   "id": "12b02ddd-bb41-42a0-8a9e-1cd248232941",
   "metadata": {},
   "outputs": [],
   "source": [
    "import numpy as np\n",
    "# sum of array in above o|p\n",
    "array = np.array(x)"
   ]
  },
  {
   "cell_type": "code",
   "execution_count": 17,
   "id": "7384e794-b9f0-4ee8-a868-9096c97a882c",
   "metadata": {},
   "outputs": [
    {
     "data": {
      "text/plain": [
       "73.30044142690642"
      ]
     },
     "execution_count": 17,
     "metadata": {},
     "output_type": "execute_result"
    }
   ],
   "source": [
    "chi2_stats = np.sum(array)\n",
    "chi2_stats"
   ]
  },
  {
   "cell_type": "code",
   "execution_count": 18,
   "id": "ccf42b20-f82e-4db7-9c0a-97aed5f705ea",
   "metadata": {},
   "outputs": [],
   "source": [
    "# critical value\n",
    "import scipy.stats as stats\n",
    "alpha = 0.05\n",
    "critical_value = stats.chi.ppf(1-alpha, dof_manual)"
   ]
  },
  {
   "cell_type": "code",
   "execution_count": 19,
   "id": "db49ebe3-acd3-4983-94cc-6c2a29e2d6c3",
   "metadata": {},
   "outputs": [
    {
     "data": {
      "text/plain": [
       "3.080215745168048"
      ]
     },
     "execution_count": 19,
     "metadata": {},
     "output_type": "execute_result"
    }
   ],
   "source": [
    "critical_value"
   ]
  },
  {
   "cell_type": "code",
   "execution_count": 20,
   "id": "c08ae68e-fe63-49d3-ba88-c49def198b48",
   "metadata": {},
   "outputs": [
    {
     "name": "stdout",
     "output_type": "stream",
     "text": [
      "Accept Null Hypothesis\n"
     ]
    }
   ],
   "source": [
    "if chi2_stats < critical_value:\n",
    "    print(\"Reject Null Hypothesis\")\n",
    "else:\n",
    "    print(\"Accept Null Hypothesis\")"
   ]
  },
  {
   "cell_type": "markdown",
   "id": "0064e6ac-7735-4ff5-a032-f2c27912279c",
   "metadata": {},
   "source": [
    "# conclusion"
   ]
  },
  {
   "cell_type": "code",
   "execution_count": 22,
   "id": "21e0f17d-abcf-49dd-8d7f-86d15bbb78bb",
   "metadata": {},
   "outputs": [],
   "source": [
    "# we Accept Null Hypothesis,bcz there is no significant association between the variables"
   ]
  }
 ],
 "metadata": {
  "kernelspec": {
   "display_name": "Python 3 (ipykernel)",
   "language": "python",
   "name": "python3"
  },
  "language_info": {
   "codemirror_mode": {
    "name": "ipython",
    "version": 3
   },
   "file_extension": ".py",
   "mimetype": "text/x-python",
   "name": "python",
   "nbconvert_exporter": "python",
   "pygments_lexer": "ipython3",
   "version": "3.12.4"
  }
 },
 "nbformat": 4,
 "nbformat_minor": 5
}
